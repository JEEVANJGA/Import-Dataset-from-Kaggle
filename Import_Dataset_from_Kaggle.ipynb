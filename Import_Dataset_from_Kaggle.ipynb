{
  "nbformat": 4,
  "nbformat_minor": 0,
  "metadata": {
    "colab": {
      "name": "Import Dataset from Kaggle.ipynb",
      "provenance": [],
      "collapsed_sections": [],
      "toc_visible": true,
      "authorship_tag": "ABX9TyNQw/+IaSVgBz/8yVFB+TyK"
    },
    "kernelspec": {
      "name": "python3",
      "display_name": "Python 3"
    }
  },
  "cells": [
    {
      "cell_type": "markdown",
      "metadata": {
        "id": "LDXazuSfplT8"
      },
      "source": [
        "Ref : https://towardsdatascience.com/downloading-datasets-into-google-drive-via-google-colab-bcb1b30b0166 \n"
      ]
    },
    {
      "cell_type": "code",
      "metadata": {
        "id": "YU-9q8YL3M6I",
        "colab": {
          "base_uri": "https://localhost:8080/"
        },
        "outputId": "d1c5bef3-6c93-4b8d-bf68-500ecba060f9"
      },
      "source": [
        "from google.colab import drive\n",
        "\n",
        "drive.mount('/content/gdrive')\n",
        "root_path = 'gdrive/My Drive/kaggle/'  #change dir to your project folder"
      ],
      "execution_count": 8,
      "outputs": [
        {
          "output_type": "stream",
          "text": [
            "Drive already mounted at /content/gdrive; to attempt to forcibly remount, call drive.mount(\"/content/gdrive\", force_remount=True).\n"
          ],
          "name": "stdout"
        }
      ]
    },
    {
      "cell_type": "code",
      "metadata": {
        "id": "n3O6gzzI3Zp_"
      },
      "source": [
        "from google.colab import files\n",
        "files.upload()  #this will prompt you to upload the kaggle.json"
      ],
      "execution_count": null,
      "outputs": []
    },
    {
      "cell_type": "code",
      "metadata": {
        "id": "aD5r2ajU3sO2",
        "colab": {
          "base_uri": "https://localhost:8080/"
        },
        "outputId": "a04931c8-485d-457d-d2bf-bc2626dab374"
      },
      "source": [
        "!pip install -q kaggle\n",
        "!mkdir -p ~/.kaggle\n",
        "!cp kaggle.json ~/.kaggle/\n",
        "!ls ~/.kaggle\n",
        "!chmod 600 /root/.kaggle/kaggle.json  # set permission"
      ],
      "execution_count": 10,
      "outputs": [
        {
          "output_type": "stream",
          "text": [
            "kaggle.json\n"
          ],
          "name": "stdout"
        }
      ]
    },
    {
      "cell_type": "code",
      "metadata": {
        "id": "ceiAyKpw4U7n",
        "colab": {
          "base_uri": "https://localhost:8080/"
        },
        "outputId": "d78497c4-6b51-4773-ae36-042b17c01e1a"
      },
      "source": [
        "!kaggle datasets download -d bharadwaj6/kindle-reviews -p /content/gdrive/My\\ Drive/kaggle/kindle-reviews/\n",
        "\n",
        "#!kaggle datasets download -d kazanova/sentiment140 -p /content/gdrive/My\\ Drive/kaggle/SentimentAnalysis/\n",
        "#!kaggle competitions download -c histopathologic-cancer-detection -p /content/gdrive/My\\ Drive/kaggle/cancer"
      ],
      "execution_count": 11,
      "outputs": [
        {
          "output_type": "stream",
          "text": [
            "Downloading kindle-reviews.zip to /content/gdrive/My Drive/kaggle/kindle-reviews\n",
            " 99% 521M/525M [00:10<00:00, 41.8MB/s]\n",
            "100% 525M/525M [00:10<00:00, 50.2MB/s]\n"
          ],
          "name": "stdout"
        }
      ]
    },
    {
      "cell_type": "code",
      "metadata": {
        "id": "U2qQjYOp6jkX",
        "colab": {
          "base_uri": "https://localhost:8080/"
        },
        "outputId": "dcb4c2b2-6181-4539-f104-31d770081c68"
      },
      "source": [
        "# %cd /content/gdrive/My Drive/kaggle/SentimentAnalysis/\n",
        "%cd /content/gdrive/My Drive/kaggle/kindle-reviews/\n",
        "!ls"
      ],
      "execution_count": 16,
      "outputs": [
        {
          "output_type": "stream",
          "text": [
            "/content/gdrive/My Drive/kaggle/kindle-reviews\n",
            "kindle-reviews.zip\n"
          ],
          "name": "stdout"
        }
      ]
    },
    {
      "cell_type": "code",
      "metadata": {
        "id": "577XAWH_7Ayy",
        "colab": {
          "base_uri": "https://localhost:8080/"
        },
        "outputId": "c115a234-c69e-4d99-c190-19f7aebbfc54"
      },
      "source": [
        "#unzipping the zip files and deleting the zip files\n",
        "# !unzip sentiment140.zip  && rm sentiment140.zip\n",
        "!unzip kindle-reviews.zip  && rm kindle-reviews.zip"
      ],
      "execution_count": 17,
      "outputs": [
        {
          "output_type": "stream",
          "text": [
            "Archive:  kindle-reviews.zip\n",
            "  inflating: kindle_reviews.csv      \n",
            "  inflating: kindle_reviews.json     \n"
          ],
          "name": "stdout"
        }
      ]
    }
  ]
}